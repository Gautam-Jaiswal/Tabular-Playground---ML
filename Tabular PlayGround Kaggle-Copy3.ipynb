{
 "cells": [
  {
   "cell_type": "code",
   "execution_count": 1,
   "id": "59ce3f57",
   "metadata": {},
   "outputs": [],
   "source": [
    "import pandas as pd \n",
    "import numpy as np \n",
    "import seaborn as sns\n",
    "import matplotlib.pyplot as plt"
   ]
  },
  {
   "cell_type": "code",
   "execution_count": 2,
   "id": "544c4f7d",
   "metadata": {},
   "outputs": [],
   "source": [
    "df = pd.read_csv('train.csv', usecols=['date', 'country', 'store', 'product', 'num_sold'])"
   ]
  },
  {
   "cell_type": "code",
   "execution_count": 3,
   "id": "41b71c95",
   "metadata": {},
   "outputs": [
    {
     "data": {
      "text/plain": [
       "(26298, 5)"
      ]
     },
     "execution_count": 3,
     "metadata": {},
     "output_type": "execute_result"
    }
   ],
   "source": [
    "df.shape"
   ]
  },
  {
   "cell_type": "code",
   "execution_count": 4,
   "id": "176cff65",
   "metadata": {
    "scrolled": true
   },
   "outputs": [
    {
     "data": {
      "text/html": [
       "<div>\n",
       "<style scoped>\n",
       "    .dataframe tbody tr th:only-of-type {\n",
       "        vertical-align: middle;\n",
       "    }\n",
       "\n",
       "    .dataframe tbody tr th {\n",
       "        vertical-align: top;\n",
       "    }\n",
       "\n",
       "    .dataframe thead th {\n",
       "        text-align: right;\n",
       "    }\n",
       "</style>\n",
       "<table border=\"1\" class=\"dataframe\">\n",
       "  <thead>\n",
       "    <tr style=\"text-align: right;\">\n",
       "      <th></th>\n",
       "      <th>date</th>\n",
       "      <th>country</th>\n",
       "      <th>store</th>\n",
       "      <th>product</th>\n",
       "      <th>num_sold</th>\n",
       "    </tr>\n",
       "  </thead>\n",
       "  <tbody>\n",
       "    <tr>\n",
       "      <th>0</th>\n",
       "      <td>2015-01-01</td>\n",
       "      <td>Finland</td>\n",
       "      <td>KaggleMart</td>\n",
       "      <td>Kaggle Mug</td>\n",
       "      <td>329</td>\n",
       "    </tr>\n",
       "    <tr>\n",
       "      <th>1</th>\n",
       "      <td>2015-01-01</td>\n",
       "      <td>Finland</td>\n",
       "      <td>KaggleMart</td>\n",
       "      <td>Kaggle Hat</td>\n",
       "      <td>520</td>\n",
       "    </tr>\n",
       "    <tr>\n",
       "      <th>2</th>\n",
       "      <td>2015-01-01</td>\n",
       "      <td>Finland</td>\n",
       "      <td>KaggleMart</td>\n",
       "      <td>Kaggle Sticker</td>\n",
       "      <td>146</td>\n",
       "    </tr>\n",
       "    <tr>\n",
       "      <th>3</th>\n",
       "      <td>2015-01-01</td>\n",
       "      <td>Finland</td>\n",
       "      <td>KaggleRama</td>\n",
       "      <td>Kaggle Mug</td>\n",
       "      <td>572</td>\n",
       "    </tr>\n",
       "    <tr>\n",
       "      <th>4</th>\n",
       "      <td>2015-01-01</td>\n",
       "      <td>Finland</td>\n",
       "      <td>KaggleRama</td>\n",
       "      <td>Kaggle Hat</td>\n",
       "      <td>911</td>\n",
       "    </tr>\n",
       "  </tbody>\n",
       "</table>\n",
       "</div>"
      ],
      "text/plain": [
       "         date  country       store         product  num_sold\n",
       "0  2015-01-01  Finland  KaggleMart      Kaggle Mug       329\n",
       "1  2015-01-01  Finland  KaggleMart      Kaggle Hat       520\n",
       "2  2015-01-01  Finland  KaggleMart  Kaggle Sticker       146\n",
       "3  2015-01-01  Finland  KaggleRama      Kaggle Mug       572\n",
       "4  2015-01-01  Finland  KaggleRama      Kaggle Hat       911"
      ]
     },
     "execution_count": 4,
     "metadata": {},
     "output_type": "execute_result"
    }
   ],
   "source": [
    "df.head()"
   ]
  },
  {
   "cell_type": "code",
   "execution_count": 5,
   "id": "040111f5",
   "metadata": {
    "scrolled": true
   },
   "outputs": [
    {
     "data": {
      "text/html": [
       "<div>\n",
       "<style scoped>\n",
       "    .dataframe tbody tr th:only-of-type {\n",
       "        vertical-align: middle;\n",
       "    }\n",
       "\n",
       "    .dataframe tbody tr th {\n",
       "        vertical-align: top;\n",
       "    }\n",
       "\n",
       "    .dataframe thead th {\n",
       "        text-align: right;\n",
       "    }\n",
       "</style>\n",
       "<table border=\"1\" class=\"dataframe\">\n",
       "  <thead>\n",
       "    <tr style=\"text-align: right;\">\n",
       "      <th></th>\n",
       "      <th>date</th>\n",
       "      <th>country</th>\n",
       "      <th>store</th>\n",
       "      <th>product</th>\n",
       "      <th>num_sold</th>\n",
       "    </tr>\n",
       "  </thead>\n",
       "  <tbody>\n",
       "    <tr>\n",
       "      <th>0</th>\n",
       "      <td>2015-01-01</td>\n",
       "      <td>Finland</td>\n",
       "      <td>KaggleMart</td>\n",
       "      <td>Kaggle Mug</td>\n",
       "      <td>329</td>\n",
       "    </tr>\n",
       "    <tr>\n",
       "      <th>1</th>\n",
       "      <td>2015-01-01</td>\n",
       "      <td>Finland</td>\n",
       "      <td>KaggleMart</td>\n",
       "      <td>Kaggle Hat</td>\n",
       "      <td>520</td>\n",
       "    </tr>\n",
       "    <tr>\n",
       "      <th>2</th>\n",
       "      <td>2015-01-01</td>\n",
       "      <td>Finland</td>\n",
       "      <td>KaggleMart</td>\n",
       "      <td>Kaggle Sticker</td>\n",
       "      <td>146</td>\n",
       "    </tr>\n",
       "    <tr>\n",
       "      <th>3</th>\n",
       "      <td>2015-01-01</td>\n",
       "      <td>Finland</td>\n",
       "      <td>KaggleRama</td>\n",
       "      <td>Kaggle Mug</td>\n",
       "      <td>572</td>\n",
       "    </tr>\n",
       "    <tr>\n",
       "      <th>4</th>\n",
       "      <td>2015-01-01</td>\n",
       "      <td>Finland</td>\n",
       "      <td>KaggleRama</td>\n",
       "      <td>Kaggle Hat</td>\n",
       "      <td>911</td>\n",
       "    </tr>\n",
       "    <tr>\n",
       "      <th>5</th>\n",
       "      <td>2015-01-01</td>\n",
       "      <td>Finland</td>\n",
       "      <td>KaggleRama</td>\n",
       "      <td>Kaggle Sticker</td>\n",
       "      <td>283</td>\n",
       "    </tr>\n",
       "    <tr>\n",
       "      <th>6</th>\n",
       "      <td>2015-01-01</td>\n",
       "      <td>Norway</td>\n",
       "      <td>KaggleMart</td>\n",
       "      <td>Kaggle Mug</td>\n",
       "      <td>526</td>\n",
       "    </tr>\n",
       "    <tr>\n",
       "      <th>7</th>\n",
       "      <td>2015-01-01</td>\n",
       "      <td>Norway</td>\n",
       "      <td>KaggleMart</td>\n",
       "      <td>Kaggle Hat</td>\n",
       "      <td>906</td>\n",
       "    </tr>\n",
       "    <tr>\n",
       "      <th>8</th>\n",
       "      <td>2015-01-01</td>\n",
       "      <td>Norway</td>\n",
       "      <td>KaggleMart</td>\n",
       "      <td>Kaggle Sticker</td>\n",
       "      <td>250</td>\n",
       "    </tr>\n",
       "    <tr>\n",
       "      <th>9</th>\n",
       "      <td>2015-01-01</td>\n",
       "      <td>Norway</td>\n",
       "      <td>KaggleRama</td>\n",
       "      <td>Kaggle Mug</td>\n",
       "      <td>1005</td>\n",
       "    </tr>\n",
       "    <tr>\n",
       "      <th>10</th>\n",
       "      <td>2015-01-01</td>\n",
       "      <td>Norway</td>\n",
       "      <td>KaggleRama</td>\n",
       "      <td>Kaggle Hat</td>\n",
       "      <td>1461</td>\n",
       "    </tr>\n",
       "    <tr>\n",
       "      <th>11</th>\n",
       "      <td>2015-01-01</td>\n",
       "      <td>Norway</td>\n",
       "      <td>KaggleRama</td>\n",
       "      <td>Kaggle Sticker</td>\n",
       "      <td>395</td>\n",
       "    </tr>\n",
       "    <tr>\n",
       "      <th>12</th>\n",
       "      <td>2015-01-01</td>\n",
       "      <td>Sweden</td>\n",
       "      <td>KaggleMart</td>\n",
       "      <td>Kaggle Mug</td>\n",
       "      <td>440</td>\n",
       "    </tr>\n",
       "    <tr>\n",
       "      <th>13</th>\n",
       "      <td>2015-01-01</td>\n",
       "      <td>Sweden</td>\n",
       "      <td>KaggleMart</td>\n",
       "      <td>Kaggle Hat</td>\n",
       "      <td>624</td>\n",
       "    </tr>\n",
       "    <tr>\n",
       "      <th>14</th>\n",
       "      <td>2015-01-01</td>\n",
       "      <td>Sweden</td>\n",
       "      <td>KaggleMart</td>\n",
       "      <td>Kaggle Sticker</td>\n",
       "      <td>175</td>\n",
       "    </tr>\n",
       "    <tr>\n",
       "      <th>15</th>\n",
       "      <td>2015-01-01</td>\n",
       "      <td>Sweden</td>\n",
       "      <td>KaggleRama</td>\n",
       "      <td>Kaggle Mug</td>\n",
       "      <td>706</td>\n",
       "    </tr>\n",
       "    <tr>\n",
       "      <th>16</th>\n",
       "      <td>2015-01-01</td>\n",
       "      <td>Sweden</td>\n",
       "      <td>KaggleRama</td>\n",
       "      <td>Kaggle Hat</td>\n",
       "      <td>1195</td>\n",
       "    </tr>\n",
       "    <tr>\n",
       "      <th>17</th>\n",
       "      <td>2015-01-01</td>\n",
       "      <td>Sweden</td>\n",
       "      <td>KaggleRama</td>\n",
       "      <td>Kaggle Sticker</td>\n",
       "      <td>324</td>\n",
       "    </tr>\n",
       "    <tr>\n",
       "      <th>18</th>\n",
       "      <td>2015-01-02</td>\n",
       "      <td>Finland</td>\n",
       "      <td>KaggleMart</td>\n",
       "      <td>Kaggle Mug</td>\n",
       "      <td>318</td>\n",
       "    </tr>\n",
       "    <tr>\n",
       "      <th>19</th>\n",
       "      <td>2015-01-02</td>\n",
       "      <td>Finland</td>\n",
       "      <td>KaggleMart</td>\n",
       "      <td>Kaggle Hat</td>\n",
       "      <td>493</td>\n",
       "    </tr>\n",
       "    <tr>\n",
       "      <th>20</th>\n",
       "      <td>2015-01-02</td>\n",
       "      <td>Finland</td>\n",
       "      <td>KaggleMart</td>\n",
       "      <td>Kaggle Sticker</td>\n",
       "      <td>127</td>\n",
       "    </tr>\n",
       "    <tr>\n",
       "      <th>21</th>\n",
       "      <td>2015-01-02</td>\n",
       "      <td>Finland</td>\n",
       "      <td>KaggleRama</td>\n",
       "      <td>Kaggle Mug</td>\n",
       "      <td>544</td>\n",
       "    </tr>\n",
       "    <tr>\n",
       "      <th>22</th>\n",
       "      <td>2015-01-02</td>\n",
       "      <td>Finland</td>\n",
       "      <td>KaggleRama</td>\n",
       "      <td>Kaggle Hat</td>\n",
       "      <td>794</td>\n",
       "    </tr>\n",
       "    <tr>\n",
       "      <th>23</th>\n",
       "      <td>2015-01-02</td>\n",
       "      <td>Finland</td>\n",
       "      <td>KaggleRama</td>\n",
       "      <td>Kaggle Sticker</td>\n",
       "      <td>249</td>\n",
       "    </tr>\n",
       "    <tr>\n",
       "      <th>24</th>\n",
       "      <td>2015-01-02</td>\n",
       "      <td>Norway</td>\n",
       "      <td>KaggleMart</td>\n",
       "      <td>Kaggle Mug</td>\n",
       "      <td>538</td>\n",
       "    </tr>\n",
       "    <tr>\n",
       "      <th>25</th>\n",
       "      <td>2015-01-02</td>\n",
       "      <td>Norway</td>\n",
       "      <td>KaggleMart</td>\n",
       "      <td>Kaggle Hat</td>\n",
       "      <td>845</td>\n",
       "    </tr>\n",
       "    <tr>\n",
       "      <th>26</th>\n",
       "      <td>2015-01-02</td>\n",
       "      <td>Norway</td>\n",
       "      <td>KaggleMart</td>\n",
       "      <td>Kaggle Sticker</td>\n",
       "      <td>237</td>\n",
       "    </tr>\n",
       "    <tr>\n",
       "      <th>27</th>\n",
       "      <td>2015-01-02</td>\n",
       "      <td>Norway</td>\n",
       "      <td>KaggleRama</td>\n",
       "      <td>Kaggle Mug</td>\n",
       "      <td>949</td>\n",
       "    </tr>\n",
       "    <tr>\n",
       "      <th>28</th>\n",
       "      <td>2015-01-02</td>\n",
       "      <td>Norway</td>\n",
       "      <td>KaggleRama</td>\n",
       "      <td>Kaggle Hat</td>\n",
       "      <td>1446</td>\n",
       "    </tr>\n",
       "    <tr>\n",
       "      <th>29</th>\n",
       "      <td>2015-01-02</td>\n",
       "      <td>Norway</td>\n",
       "      <td>KaggleRama</td>\n",
       "      <td>Kaggle Sticker</td>\n",
       "      <td>415</td>\n",
       "    </tr>\n",
       "    <tr>\n",
       "      <th>30</th>\n",
       "      <td>2015-01-02</td>\n",
       "      <td>Sweden</td>\n",
       "      <td>KaggleMart</td>\n",
       "      <td>Kaggle Mug</td>\n",
       "      <td>384</td>\n",
       "    </tr>\n",
       "    <tr>\n",
       "      <th>31</th>\n",
       "      <td>2015-01-02</td>\n",
       "      <td>Sweden</td>\n",
       "      <td>KaggleMart</td>\n",
       "      <td>Kaggle Hat</td>\n",
       "      <td>572</td>\n",
       "    </tr>\n",
       "    <tr>\n",
       "      <th>32</th>\n",
       "      <td>2015-01-02</td>\n",
       "      <td>Sweden</td>\n",
       "      <td>KaggleMart</td>\n",
       "      <td>Kaggle Sticker</td>\n",
       "      <td>155</td>\n",
       "    </tr>\n",
       "    <tr>\n",
       "      <th>33</th>\n",
       "      <td>2015-01-02</td>\n",
       "      <td>Sweden</td>\n",
       "      <td>KaggleRama</td>\n",
       "      <td>Kaggle Mug</td>\n",
       "      <td>653</td>\n",
       "    </tr>\n",
       "    <tr>\n",
       "      <th>34</th>\n",
       "      <td>2015-01-02</td>\n",
       "      <td>Sweden</td>\n",
       "      <td>KaggleRama</td>\n",
       "      <td>Kaggle Hat</td>\n",
       "      <td>986</td>\n",
       "    </tr>\n",
       "    <tr>\n",
       "      <th>35</th>\n",
       "      <td>2015-01-02</td>\n",
       "      <td>Sweden</td>\n",
       "      <td>KaggleRama</td>\n",
       "      <td>Kaggle Sticker</td>\n",
       "      <td>293</td>\n",
       "    </tr>\n",
       "    <tr>\n",
       "      <th>36</th>\n",
       "      <td>2015-01-03</td>\n",
       "      <td>Finland</td>\n",
       "      <td>KaggleMart</td>\n",
       "      <td>Kaggle Mug</td>\n",
       "      <td>360</td>\n",
       "    </tr>\n",
       "    <tr>\n",
       "      <th>37</th>\n",
       "      <td>2015-01-03</td>\n",
       "      <td>Finland</td>\n",
       "      <td>KaggleMart</td>\n",
       "      <td>Kaggle Hat</td>\n",
       "      <td>535</td>\n",
       "    </tr>\n",
       "    <tr>\n",
       "      <th>38</th>\n",
       "      <td>2015-01-03</td>\n",
       "      <td>Finland</td>\n",
       "      <td>KaggleMart</td>\n",
       "      <td>Kaggle Sticker</td>\n",
       "      <td>141</td>\n",
       "    </tr>\n",
       "    <tr>\n",
       "      <th>39</th>\n",
       "      <td>2015-01-03</td>\n",
       "      <td>Finland</td>\n",
       "      <td>KaggleRama</td>\n",
       "      <td>Kaggle Mug</td>\n",
       "      <td>579</td>\n",
       "    </tr>\n",
       "    <tr>\n",
       "      <th>40</th>\n",
       "      <td>2015-01-03</td>\n",
       "      <td>Finland</td>\n",
       "      <td>KaggleRama</td>\n",
       "      <td>Kaggle Hat</td>\n",
       "      <td>843</td>\n",
       "    </tr>\n",
       "    <tr>\n",
       "      <th>41</th>\n",
       "      <td>2015-01-03</td>\n",
       "      <td>Finland</td>\n",
       "      <td>KaggleRama</td>\n",
       "      <td>Kaggle Sticker</td>\n",
       "      <td>265</td>\n",
       "    </tr>\n",
       "    <tr>\n",
       "      <th>42</th>\n",
       "      <td>2015-01-03</td>\n",
       "      <td>Norway</td>\n",
       "      <td>KaggleMart</td>\n",
       "      <td>Kaggle Mug</td>\n",
       "      <td>614</td>\n",
       "    </tr>\n",
       "    <tr>\n",
       "      <th>43</th>\n",
       "      <td>2015-01-03</td>\n",
       "      <td>Norway</td>\n",
       "      <td>KaggleMart</td>\n",
       "      <td>Kaggle Hat</td>\n",
       "      <td>930</td>\n",
       "    </tr>\n",
       "    <tr>\n",
       "      <th>44</th>\n",
       "      <td>2015-01-03</td>\n",
       "      <td>Norway</td>\n",
       "      <td>KaggleMart</td>\n",
       "      <td>Kaggle Sticker</td>\n",
       "      <td>254</td>\n",
       "    </tr>\n",
       "    <tr>\n",
       "      <th>45</th>\n",
       "      <td>2015-01-03</td>\n",
       "      <td>Norway</td>\n",
       "      <td>KaggleRama</td>\n",
       "      <td>Kaggle Mug</td>\n",
       "      <td>1029</td>\n",
       "    </tr>\n",
       "    <tr>\n",
       "      <th>46</th>\n",
       "      <td>2015-01-03</td>\n",
       "      <td>Norway</td>\n",
       "      <td>KaggleRama</td>\n",
       "      <td>Kaggle Hat</td>\n",
       "      <td>1631</td>\n",
       "    </tr>\n",
       "    <tr>\n",
       "      <th>47</th>\n",
       "      <td>2015-01-03</td>\n",
       "      <td>Norway</td>\n",
       "      <td>KaggleRama</td>\n",
       "      <td>Kaggle Sticker</td>\n",
       "      <td>451</td>\n",
       "    </tr>\n",
       "    <tr>\n",
       "      <th>48</th>\n",
       "      <td>2015-01-03</td>\n",
       "      <td>Sweden</td>\n",
       "      <td>KaggleMart</td>\n",
       "      <td>Kaggle Mug</td>\n",
       "      <td>420</td>\n",
       "    </tr>\n",
       "    <tr>\n",
       "      <th>49</th>\n",
       "      <td>2015-01-03</td>\n",
       "      <td>Sweden</td>\n",
       "      <td>KaggleMart</td>\n",
       "      <td>Kaggle Hat</td>\n",
       "      <td>630</td>\n",
       "    </tr>\n",
       "  </tbody>\n",
       "</table>\n",
       "</div>"
      ],
      "text/plain": [
       "          date  country       store         product  num_sold\n",
       "0   2015-01-01  Finland  KaggleMart      Kaggle Mug       329\n",
       "1   2015-01-01  Finland  KaggleMart      Kaggle Hat       520\n",
       "2   2015-01-01  Finland  KaggleMart  Kaggle Sticker       146\n",
       "3   2015-01-01  Finland  KaggleRama      Kaggle Mug       572\n",
       "4   2015-01-01  Finland  KaggleRama      Kaggle Hat       911\n",
       "5   2015-01-01  Finland  KaggleRama  Kaggle Sticker       283\n",
       "6   2015-01-01   Norway  KaggleMart      Kaggle Mug       526\n",
       "7   2015-01-01   Norway  KaggleMart      Kaggle Hat       906\n",
       "8   2015-01-01   Norway  KaggleMart  Kaggle Sticker       250\n",
       "9   2015-01-01   Norway  KaggleRama      Kaggle Mug      1005\n",
       "10  2015-01-01   Norway  KaggleRama      Kaggle Hat      1461\n",
       "11  2015-01-01   Norway  KaggleRama  Kaggle Sticker       395\n",
       "12  2015-01-01   Sweden  KaggleMart      Kaggle Mug       440\n",
       "13  2015-01-01   Sweden  KaggleMart      Kaggle Hat       624\n",
       "14  2015-01-01   Sweden  KaggleMart  Kaggle Sticker       175\n",
       "15  2015-01-01   Sweden  KaggleRama      Kaggle Mug       706\n",
       "16  2015-01-01   Sweden  KaggleRama      Kaggle Hat      1195\n",
       "17  2015-01-01   Sweden  KaggleRama  Kaggle Sticker       324\n",
       "18  2015-01-02  Finland  KaggleMart      Kaggle Mug       318\n",
       "19  2015-01-02  Finland  KaggleMart      Kaggle Hat       493\n",
       "20  2015-01-02  Finland  KaggleMart  Kaggle Sticker       127\n",
       "21  2015-01-02  Finland  KaggleRama      Kaggle Mug       544\n",
       "22  2015-01-02  Finland  KaggleRama      Kaggle Hat       794\n",
       "23  2015-01-02  Finland  KaggleRama  Kaggle Sticker       249\n",
       "24  2015-01-02   Norway  KaggleMart      Kaggle Mug       538\n",
       "25  2015-01-02   Norway  KaggleMart      Kaggle Hat       845\n",
       "26  2015-01-02   Norway  KaggleMart  Kaggle Sticker       237\n",
       "27  2015-01-02   Norway  KaggleRama      Kaggle Mug       949\n",
       "28  2015-01-02   Norway  KaggleRama      Kaggle Hat      1446\n",
       "29  2015-01-02   Norway  KaggleRama  Kaggle Sticker       415\n",
       "30  2015-01-02   Sweden  KaggleMart      Kaggle Mug       384\n",
       "31  2015-01-02   Sweden  KaggleMart      Kaggle Hat       572\n",
       "32  2015-01-02   Sweden  KaggleMart  Kaggle Sticker       155\n",
       "33  2015-01-02   Sweden  KaggleRama      Kaggle Mug       653\n",
       "34  2015-01-02   Sweden  KaggleRama      Kaggle Hat       986\n",
       "35  2015-01-02   Sweden  KaggleRama  Kaggle Sticker       293\n",
       "36  2015-01-03  Finland  KaggleMart      Kaggle Mug       360\n",
       "37  2015-01-03  Finland  KaggleMart      Kaggle Hat       535\n",
       "38  2015-01-03  Finland  KaggleMart  Kaggle Sticker       141\n",
       "39  2015-01-03  Finland  KaggleRama      Kaggle Mug       579\n",
       "40  2015-01-03  Finland  KaggleRama      Kaggle Hat       843\n",
       "41  2015-01-03  Finland  KaggleRama  Kaggle Sticker       265\n",
       "42  2015-01-03   Norway  KaggleMart      Kaggle Mug       614\n",
       "43  2015-01-03   Norway  KaggleMart      Kaggle Hat       930\n",
       "44  2015-01-03   Norway  KaggleMart  Kaggle Sticker       254\n",
       "45  2015-01-03   Norway  KaggleRama      Kaggle Mug      1029\n",
       "46  2015-01-03   Norway  KaggleRama      Kaggle Hat      1631\n",
       "47  2015-01-03   Norway  KaggleRama  Kaggle Sticker       451\n",
       "48  2015-01-03   Sweden  KaggleMart      Kaggle Mug       420\n",
       "49  2015-01-03   Sweden  KaggleMart      Kaggle Hat       630"
      ]
     },
     "execution_count": 5,
     "metadata": {},
     "output_type": "execute_result"
    }
   ],
   "source": [
    "df.head(50)"
   ]
  },
  {
   "cell_type": "code",
   "execution_count": 6,
   "id": "4e126dac",
   "metadata": {},
   "outputs": [
    {
     "data": {
      "text/html": [
       "<div>\n",
       "<style scoped>\n",
       "    .dataframe tbody tr th:only-of-type {\n",
       "        vertical-align: middle;\n",
       "    }\n",
       "\n",
       "    .dataframe tbody tr th {\n",
       "        vertical-align: top;\n",
       "    }\n",
       "\n",
       "    .dataframe thead th {\n",
       "        text-align: right;\n",
       "    }\n",
       "</style>\n",
       "<table border=\"1\" class=\"dataframe\">\n",
       "  <thead>\n",
       "    <tr style=\"text-align: right;\">\n",
       "      <th></th>\n",
       "      <th>num_sold</th>\n",
       "    </tr>\n",
       "  </thead>\n",
       "  <tbody>\n",
       "    <tr>\n",
       "      <th>count</th>\n",
       "      <td>26298.000000</td>\n",
       "    </tr>\n",
       "    <tr>\n",
       "      <th>mean</th>\n",
       "      <td>387.533577</td>\n",
       "    </tr>\n",
       "    <tr>\n",
       "      <th>std</th>\n",
       "      <td>266.076193</td>\n",
       "    </tr>\n",
       "    <tr>\n",
       "      <th>min</th>\n",
       "      <td>70.000000</td>\n",
       "    </tr>\n",
       "    <tr>\n",
       "      <th>25%</th>\n",
       "      <td>190.000000</td>\n",
       "    </tr>\n",
       "    <tr>\n",
       "      <th>50%</th>\n",
       "      <td>315.000000</td>\n",
       "    </tr>\n",
       "    <tr>\n",
       "      <th>75%</th>\n",
       "      <td>510.000000</td>\n",
       "    </tr>\n",
       "    <tr>\n",
       "      <th>max</th>\n",
       "      <td>2884.000000</td>\n",
       "    </tr>\n",
       "  </tbody>\n",
       "</table>\n",
       "</div>"
      ],
      "text/plain": [
       "           num_sold\n",
       "count  26298.000000\n",
       "mean     387.533577\n",
       "std      266.076193\n",
       "min       70.000000\n",
       "25%      190.000000\n",
       "50%      315.000000\n",
       "75%      510.000000\n",
       "max     2884.000000"
      ]
     },
     "execution_count": 6,
     "metadata": {},
     "output_type": "execute_result"
    }
   ],
   "source": [
    "df.describe()"
   ]
  },
  {
   "cell_type": "code",
   "execution_count": 7,
   "id": "f349a3e6",
   "metadata": {},
   "outputs": [
    {
     "name": "stdout",
     "output_type": "stream",
     "text": [
      "<class 'pandas.core.frame.DataFrame'>\n",
      "RangeIndex: 26298 entries, 0 to 26297\n",
      "Data columns (total 5 columns):\n",
      " #   Column    Non-Null Count  Dtype \n",
      "---  ------    --------------  ----- \n",
      " 0   date      26298 non-null  object\n",
      " 1   country   26298 non-null  object\n",
      " 2   store     26298 non-null  object\n",
      " 3   product   26298 non-null  object\n",
      " 4   num_sold  26298 non-null  int64 \n",
      "dtypes: int64(1), object(4)\n",
      "memory usage: 1.0+ MB\n"
     ]
    }
   ],
   "source": [
    "df.info()"
   ]
  },
  {
   "cell_type": "code",
   "execution_count": 8,
   "id": "7e3e8dad",
   "metadata": {},
   "outputs": [
    {
     "data": {
      "text/plain": [
       "False"
      ]
     },
     "execution_count": 8,
     "metadata": {},
     "output_type": "execute_result"
    }
   ],
   "source": [
    "df.isnull().values.any()"
   ]
  },
  {
   "cell_type": "code",
   "execution_count": 9,
   "id": "8fc671cc",
   "metadata": {},
   "outputs": [
    {
     "data": {
      "text/plain": [
       "Finland    8766\n",
       "Norway     8766\n",
       "Sweden     8766\n",
       "Name: country, dtype: int64"
      ]
     },
     "execution_count": 9,
     "metadata": {},
     "output_type": "execute_result"
    }
   ],
   "source": [
    "df.country.value_counts()"
   ]
  },
  {
   "cell_type": "code",
   "execution_count": 10,
   "id": "cf7a1dce",
   "metadata": {},
   "outputs": [
    {
     "data": {
      "text/plain": [
       "KaggleMart    13149\n",
       "KaggleRama    13149\n",
       "Name: store, dtype: int64"
      ]
     },
     "execution_count": 10,
     "metadata": {},
     "output_type": "execute_result"
    }
   ],
   "source": [
    "df.store.value_counts()"
   ]
  },
  {
   "cell_type": "markdown",
   "id": "12e53196",
   "metadata": {},
   "source": [
    "# EDA"
   ]
  },
  {
   "cell_type": "code",
   "execution_count": 11,
   "id": "8ee290eb",
   "metadata": {},
   "outputs": [
    {
     "data": {
      "text/html": [
       "<div>\n",
       "<style scoped>\n",
       "    .dataframe tbody tr th:only-of-type {\n",
       "        vertical-align: middle;\n",
       "    }\n",
       "\n",
       "    .dataframe tbody tr th {\n",
       "        vertical-align: top;\n",
       "    }\n",
       "\n",
       "    .dataframe thead th {\n",
       "        text-align: right;\n",
       "    }\n",
       "</style>\n",
       "<table border=\"1\" class=\"dataframe\">\n",
       "  <thead>\n",
       "    <tr style=\"text-align: right;\">\n",
       "      <th></th>\n",
       "      <th>date</th>\n",
       "      <th>country</th>\n",
       "      <th>store</th>\n",
       "      <th>num_sold</th>\n",
       "    </tr>\n",
       "    <tr>\n",
       "      <th>product</th>\n",
       "      <th></th>\n",
       "      <th></th>\n",
       "      <th></th>\n",
       "      <th></th>\n",
       "    </tr>\n",
       "  </thead>\n",
       "  <tbody>\n",
       "    <tr>\n",
       "      <th>Kaggle Hat</th>\n",
       "      <td>8766</td>\n",
       "      <td>8766</td>\n",
       "      <td>8766</td>\n",
       "      <td>8766</td>\n",
       "    </tr>\n",
       "    <tr>\n",
       "      <th>Kaggle Mug</th>\n",
       "      <td>8766</td>\n",
       "      <td>8766</td>\n",
       "      <td>8766</td>\n",
       "      <td>8766</td>\n",
       "    </tr>\n",
       "    <tr>\n",
       "      <th>Kaggle Sticker</th>\n",
       "      <td>8766</td>\n",
       "      <td>8766</td>\n",
       "      <td>8766</td>\n",
       "      <td>8766</td>\n",
       "    </tr>\n",
       "  </tbody>\n",
       "</table>\n",
       "</div>"
      ],
      "text/plain": [
       "                date  country  store  num_sold\n",
       "product                                       \n",
       "Kaggle Hat      8766     8766   8766      8766\n",
       "Kaggle Mug      8766     8766   8766      8766\n",
       "Kaggle Sticker  8766     8766   8766      8766"
      ]
     },
     "execution_count": 11,
     "metadata": {},
     "output_type": "execute_result"
    }
   ],
   "source": [
    "df.groupby('product').count()"
   ]
  },
  {
   "cell_type": "code",
   "execution_count": 12,
   "id": "a8d9fa2c",
   "metadata": {},
   "outputs": [],
   "source": [
    "df.date = pd.to_datetime(df.date)"
   ]
  },
  {
   "cell_type": "markdown",
   "id": "3d396f52",
   "metadata": {},
   "source": [
    "# F.E."
   ]
  },
  {
   "cell_type": "markdown",
   "id": "c1dfb47b",
   "metadata": {},
   "source": [
    "I will remove the dates and on it's place add the respective days and months"
   ]
  },
  {
   "cell_type": "code",
   "execution_count": 13,
   "id": "63eed1ae",
   "metadata": {},
   "outputs": [],
   "source": [
    "df['month'] = df['date'].dt.month"
   ]
  },
  {
   "cell_type": "code",
   "execution_count": 14,
   "id": "9041f52b",
   "metadata": {},
   "outputs": [],
   "source": [
    "df['day'] = df['date'].dt.day"
   ]
  },
  {
   "cell_type": "code",
   "execution_count": 15,
   "id": "24ac0250",
   "metadata": {},
   "outputs": [
    {
     "data": {
      "text/html": [
       "<div>\n",
       "<style scoped>\n",
       "    .dataframe tbody tr th:only-of-type {\n",
       "        vertical-align: middle;\n",
       "    }\n",
       "\n",
       "    .dataframe tbody tr th {\n",
       "        vertical-align: top;\n",
       "    }\n",
       "\n",
       "    .dataframe thead th {\n",
       "        text-align: right;\n",
       "    }\n",
       "</style>\n",
       "<table border=\"1\" class=\"dataframe\">\n",
       "  <thead>\n",
       "    <tr style=\"text-align: right;\">\n",
       "      <th></th>\n",
       "      <th>date</th>\n",
       "      <th>country</th>\n",
       "      <th>store</th>\n",
       "      <th>product</th>\n",
       "      <th>num_sold</th>\n",
       "      <th>month</th>\n",
       "      <th>day</th>\n",
       "    </tr>\n",
       "  </thead>\n",
       "  <tbody>\n",
       "    <tr>\n",
       "      <th>0</th>\n",
       "      <td>2015-01-01</td>\n",
       "      <td>Finland</td>\n",
       "      <td>KaggleMart</td>\n",
       "      <td>Kaggle Mug</td>\n",
       "      <td>329</td>\n",
       "      <td>1</td>\n",
       "      <td>1</td>\n",
       "    </tr>\n",
       "    <tr>\n",
       "      <th>1</th>\n",
       "      <td>2015-01-01</td>\n",
       "      <td>Finland</td>\n",
       "      <td>KaggleMart</td>\n",
       "      <td>Kaggle Hat</td>\n",
       "      <td>520</td>\n",
       "      <td>1</td>\n",
       "      <td>1</td>\n",
       "    </tr>\n",
       "    <tr>\n",
       "      <th>2</th>\n",
       "      <td>2015-01-01</td>\n",
       "      <td>Finland</td>\n",
       "      <td>KaggleMart</td>\n",
       "      <td>Kaggle Sticker</td>\n",
       "      <td>146</td>\n",
       "      <td>1</td>\n",
       "      <td>1</td>\n",
       "    </tr>\n",
       "    <tr>\n",
       "      <th>3</th>\n",
       "      <td>2015-01-01</td>\n",
       "      <td>Finland</td>\n",
       "      <td>KaggleRama</td>\n",
       "      <td>Kaggle Mug</td>\n",
       "      <td>572</td>\n",
       "      <td>1</td>\n",
       "      <td>1</td>\n",
       "    </tr>\n",
       "    <tr>\n",
       "      <th>4</th>\n",
       "      <td>2015-01-01</td>\n",
       "      <td>Finland</td>\n",
       "      <td>KaggleRama</td>\n",
       "      <td>Kaggle Hat</td>\n",
       "      <td>911</td>\n",
       "      <td>1</td>\n",
       "      <td>1</td>\n",
       "    </tr>\n",
       "  </tbody>\n",
       "</table>\n",
       "</div>"
      ],
      "text/plain": [
       "        date  country       store         product  num_sold  month  day\n",
       "0 2015-01-01  Finland  KaggleMart      Kaggle Mug       329      1    1\n",
       "1 2015-01-01  Finland  KaggleMart      Kaggle Hat       520      1    1\n",
       "2 2015-01-01  Finland  KaggleMart  Kaggle Sticker       146      1    1\n",
       "3 2015-01-01  Finland  KaggleRama      Kaggle Mug       572      1    1\n",
       "4 2015-01-01  Finland  KaggleRama      Kaggle Hat       911      1    1"
      ]
     },
     "execution_count": 15,
     "metadata": {},
     "output_type": "execute_result"
    }
   ],
   "source": [
    "df.head()"
   ]
  },
  {
   "cell_type": "code",
   "execution_count": 16,
   "id": "fcd920fe",
   "metadata": {
    "scrolled": false
   },
   "outputs": [
    {
     "data": {
      "text/html": [
       "<div>\n",
       "<style scoped>\n",
       "    .dataframe tbody tr th:only-of-type {\n",
       "        vertical-align: middle;\n",
       "    }\n",
       "\n",
       "    .dataframe tbody tr th {\n",
       "        vertical-align: top;\n",
       "    }\n",
       "\n",
       "    .dataframe thead th {\n",
       "        text-align: right;\n",
       "    }\n",
       "</style>\n",
       "<table border=\"1\" class=\"dataframe\">\n",
       "  <thead>\n",
       "    <tr style=\"text-align: right;\">\n",
       "      <th></th>\n",
       "      <th>country</th>\n",
       "      <th>store</th>\n",
       "      <th>product</th>\n",
       "      <th>num_sold</th>\n",
       "      <th>month</th>\n",
       "      <th>day</th>\n",
       "    </tr>\n",
       "  </thead>\n",
       "  <tbody>\n",
       "    <tr>\n",
       "      <th>0</th>\n",
       "      <td>Finland</td>\n",
       "      <td>KaggleMart</td>\n",
       "      <td>Kaggle Mug</td>\n",
       "      <td>329</td>\n",
       "      <td>1</td>\n",
       "      <td>1</td>\n",
       "    </tr>\n",
       "    <tr>\n",
       "      <th>1</th>\n",
       "      <td>Finland</td>\n",
       "      <td>KaggleMart</td>\n",
       "      <td>Kaggle Hat</td>\n",
       "      <td>520</td>\n",
       "      <td>1</td>\n",
       "      <td>1</td>\n",
       "    </tr>\n",
       "    <tr>\n",
       "      <th>2</th>\n",
       "      <td>Finland</td>\n",
       "      <td>KaggleMart</td>\n",
       "      <td>Kaggle Sticker</td>\n",
       "      <td>146</td>\n",
       "      <td>1</td>\n",
       "      <td>1</td>\n",
       "    </tr>\n",
       "    <tr>\n",
       "      <th>3</th>\n",
       "      <td>Finland</td>\n",
       "      <td>KaggleRama</td>\n",
       "      <td>Kaggle Mug</td>\n",
       "      <td>572</td>\n",
       "      <td>1</td>\n",
       "      <td>1</td>\n",
       "    </tr>\n",
       "    <tr>\n",
       "      <th>4</th>\n",
       "      <td>Finland</td>\n",
       "      <td>KaggleRama</td>\n",
       "      <td>Kaggle Hat</td>\n",
       "      <td>911</td>\n",
       "      <td>1</td>\n",
       "      <td>1</td>\n",
       "    </tr>\n",
       "    <tr>\n",
       "      <th>...</th>\n",
       "      <td>...</td>\n",
       "      <td>...</td>\n",
       "      <td>...</td>\n",
       "      <td>...</td>\n",
       "      <td>...</td>\n",
       "      <td>...</td>\n",
       "    </tr>\n",
       "    <tr>\n",
       "      <th>26293</th>\n",
       "      <td>Sweden</td>\n",
       "      <td>KaggleMart</td>\n",
       "      <td>Kaggle Hat</td>\n",
       "      <td>823</td>\n",
       "      <td>12</td>\n",
       "      <td>31</td>\n",
       "    </tr>\n",
       "    <tr>\n",
       "      <th>26294</th>\n",
       "      <td>Sweden</td>\n",
       "      <td>KaggleMart</td>\n",
       "      <td>Kaggle Sticker</td>\n",
       "      <td>250</td>\n",
       "      <td>12</td>\n",
       "      <td>31</td>\n",
       "    </tr>\n",
       "    <tr>\n",
       "      <th>26295</th>\n",
       "      <td>Sweden</td>\n",
       "      <td>KaggleRama</td>\n",
       "      <td>Kaggle Mug</td>\n",
       "      <td>1004</td>\n",
       "      <td>12</td>\n",
       "      <td>31</td>\n",
       "    </tr>\n",
       "    <tr>\n",
       "      <th>26296</th>\n",
       "      <td>Sweden</td>\n",
       "      <td>KaggleRama</td>\n",
       "      <td>Kaggle Hat</td>\n",
       "      <td>1441</td>\n",
       "      <td>12</td>\n",
       "      <td>31</td>\n",
       "    </tr>\n",
       "    <tr>\n",
       "      <th>26297</th>\n",
       "      <td>Sweden</td>\n",
       "      <td>KaggleRama</td>\n",
       "      <td>Kaggle Sticker</td>\n",
       "      <td>388</td>\n",
       "      <td>12</td>\n",
       "      <td>31</td>\n",
       "    </tr>\n",
       "  </tbody>\n",
       "</table>\n",
       "<p>26298 rows × 6 columns</p>\n",
       "</div>"
      ],
      "text/plain": [
       "       country       store         product  num_sold  month  day\n",
       "0      Finland  KaggleMart      Kaggle Mug       329      1    1\n",
       "1      Finland  KaggleMart      Kaggle Hat       520      1    1\n",
       "2      Finland  KaggleMart  Kaggle Sticker       146      1    1\n",
       "3      Finland  KaggleRama      Kaggle Mug       572      1    1\n",
       "4      Finland  KaggleRama      Kaggle Hat       911      1    1\n",
       "...        ...         ...             ...       ...    ...  ...\n",
       "26293   Sweden  KaggleMart      Kaggle Hat       823     12   31\n",
       "26294   Sweden  KaggleMart  Kaggle Sticker       250     12   31\n",
       "26295   Sweden  KaggleRama      Kaggle Mug      1004     12   31\n",
       "26296   Sweden  KaggleRama      Kaggle Hat      1441     12   31\n",
       "26297   Sweden  KaggleRama  Kaggle Sticker       388     12   31\n",
       "\n",
       "[26298 rows x 6 columns]"
      ]
     },
     "execution_count": 16,
     "metadata": {},
     "output_type": "execute_result"
    }
   ],
   "source": [
    "df.drop(axis=1, columns=['date'])"
   ]
  },
  {
   "cell_type": "code",
   "execution_count": 17,
   "id": "de548497",
   "metadata": {},
   "outputs": [],
   "source": [
    "df = pd.get_dummies(columns=['country', 'store', 'product'], data=df)"
   ]
  },
  {
   "cell_type": "code",
   "execution_count": 18,
   "id": "a3af77c3",
   "metadata": {},
   "outputs": [
    {
     "data": {
      "text/html": [
       "<div>\n",
       "<style scoped>\n",
       "    .dataframe tbody tr th:only-of-type {\n",
       "        vertical-align: middle;\n",
       "    }\n",
       "\n",
       "    .dataframe tbody tr th {\n",
       "        vertical-align: top;\n",
       "    }\n",
       "\n",
       "    .dataframe thead th {\n",
       "        text-align: right;\n",
       "    }\n",
       "</style>\n",
       "<table border=\"1\" class=\"dataframe\">\n",
       "  <thead>\n",
       "    <tr style=\"text-align: right;\">\n",
       "      <th></th>\n",
       "      <th>date</th>\n",
       "      <th>num_sold</th>\n",
       "      <th>month</th>\n",
       "      <th>day</th>\n",
       "      <th>country_Finland</th>\n",
       "      <th>country_Norway</th>\n",
       "      <th>country_Sweden</th>\n",
       "      <th>store_KaggleMart</th>\n",
       "      <th>store_KaggleRama</th>\n",
       "      <th>product_Kaggle Hat</th>\n",
       "      <th>product_Kaggle Mug</th>\n",
       "      <th>product_Kaggle Sticker</th>\n",
       "    </tr>\n",
       "  </thead>\n",
       "  <tbody>\n",
       "    <tr>\n",
       "      <th>0</th>\n",
       "      <td>2015-01-01</td>\n",
       "      <td>329</td>\n",
       "      <td>1</td>\n",
       "      <td>1</td>\n",
       "      <td>1</td>\n",
       "      <td>0</td>\n",
       "      <td>0</td>\n",
       "      <td>1</td>\n",
       "      <td>0</td>\n",
       "      <td>0</td>\n",
       "      <td>1</td>\n",
       "      <td>0</td>\n",
       "    </tr>\n",
       "    <tr>\n",
       "      <th>1</th>\n",
       "      <td>2015-01-01</td>\n",
       "      <td>520</td>\n",
       "      <td>1</td>\n",
       "      <td>1</td>\n",
       "      <td>1</td>\n",
       "      <td>0</td>\n",
       "      <td>0</td>\n",
       "      <td>1</td>\n",
       "      <td>0</td>\n",
       "      <td>1</td>\n",
       "      <td>0</td>\n",
       "      <td>0</td>\n",
       "    </tr>\n",
       "    <tr>\n",
       "      <th>2</th>\n",
       "      <td>2015-01-01</td>\n",
       "      <td>146</td>\n",
       "      <td>1</td>\n",
       "      <td>1</td>\n",
       "      <td>1</td>\n",
       "      <td>0</td>\n",
       "      <td>0</td>\n",
       "      <td>1</td>\n",
       "      <td>0</td>\n",
       "      <td>0</td>\n",
       "      <td>0</td>\n",
       "      <td>1</td>\n",
       "    </tr>\n",
       "    <tr>\n",
       "      <th>3</th>\n",
       "      <td>2015-01-01</td>\n",
       "      <td>572</td>\n",
       "      <td>1</td>\n",
       "      <td>1</td>\n",
       "      <td>1</td>\n",
       "      <td>0</td>\n",
       "      <td>0</td>\n",
       "      <td>0</td>\n",
       "      <td>1</td>\n",
       "      <td>0</td>\n",
       "      <td>1</td>\n",
       "      <td>0</td>\n",
       "    </tr>\n",
       "    <tr>\n",
       "      <th>4</th>\n",
       "      <td>2015-01-01</td>\n",
       "      <td>911</td>\n",
       "      <td>1</td>\n",
       "      <td>1</td>\n",
       "      <td>1</td>\n",
       "      <td>0</td>\n",
       "      <td>0</td>\n",
       "      <td>0</td>\n",
       "      <td>1</td>\n",
       "      <td>1</td>\n",
       "      <td>0</td>\n",
       "      <td>0</td>\n",
       "    </tr>\n",
       "  </tbody>\n",
       "</table>\n",
       "</div>"
      ],
      "text/plain": [
       "        date  num_sold  month  day  country_Finland  country_Norway  \\\n",
       "0 2015-01-01       329      1    1                1               0   \n",
       "1 2015-01-01       520      1    1                1               0   \n",
       "2 2015-01-01       146      1    1                1               0   \n",
       "3 2015-01-01       572      1    1                1               0   \n",
       "4 2015-01-01       911      1    1                1               0   \n",
       "\n",
       "   country_Sweden  store_KaggleMart  store_KaggleRama  product_Kaggle Hat  \\\n",
       "0               0                 1                 0                   0   \n",
       "1               0                 1                 0                   1   \n",
       "2               0                 1                 0                   0   \n",
       "3               0                 0                 1                   0   \n",
       "4               0                 0                 1                   1   \n",
       "\n",
       "   product_Kaggle Mug  product_Kaggle Sticker  \n",
       "0                   1                       0  \n",
       "1                   0                       0  \n",
       "2                   0                       1  \n",
       "3                   1                       0  \n",
       "4                   0                       0  "
      ]
     },
     "execution_count": 18,
     "metadata": {},
     "output_type": "execute_result"
    }
   ],
   "source": [
    "df.head()"
   ]
  },
  {
   "cell_type": "code",
   "execution_count": 19,
   "id": "756e9cee",
   "metadata": {},
   "outputs": [],
   "source": [
    "df.drop(axis=1 , inplace=True, columns=['month', 'day', 'date'])"
   ]
  },
  {
   "cell_type": "code",
   "execution_count": 20,
   "id": "36881df0",
   "metadata": {},
   "outputs": [
    {
     "data": {
      "text/html": [
       "<div>\n",
       "<style scoped>\n",
       "    .dataframe tbody tr th:only-of-type {\n",
       "        vertical-align: middle;\n",
       "    }\n",
       "\n",
       "    .dataframe tbody tr th {\n",
       "        vertical-align: top;\n",
       "    }\n",
       "\n",
       "    .dataframe thead th {\n",
       "        text-align: right;\n",
       "    }\n",
       "</style>\n",
       "<table border=\"1\" class=\"dataframe\">\n",
       "  <thead>\n",
       "    <tr style=\"text-align: right;\">\n",
       "      <th></th>\n",
       "      <th>num_sold</th>\n",
       "      <th>country_Finland</th>\n",
       "      <th>country_Norway</th>\n",
       "      <th>country_Sweden</th>\n",
       "      <th>store_KaggleMart</th>\n",
       "      <th>store_KaggleRama</th>\n",
       "      <th>product_Kaggle Hat</th>\n",
       "      <th>product_Kaggle Mug</th>\n",
       "      <th>product_Kaggle Sticker</th>\n",
       "    </tr>\n",
       "  </thead>\n",
       "  <tbody>\n",
       "    <tr>\n",
       "      <th>0</th>\n",
       "      <td>329</td>\n",
       "      <td>1</td>\n",
       "      <td>0</td>\n",
       "      <td>0</td>\n",
       "      <td>1</td>\n",
       "      <td>0</td>\n",
       "      <td>0</td>\n",
       "      <td>1</td>\n",
       "      <td>0</td>\n",
       "    </tr>\n",
       "    <tr>\n",
       "      <th>1</th>\n",
       "      <td>520</td>\n",
       "      <td>1</td>\n",
       "      <td>0</td>\n",
       "      <td>0</td>\n",
       "      <td>1</td>\n",
       "      <td>0</td>\n",
       "      <td>1</td>\n",
       "      <td>0</td>\n",
       "      <td>0</td>\n",
       "    </tr>\n",
       "    <tr>\n",
       "      <th>2</th>\n",
       "      <td>146</td>\n",
       "      <td>1</td>\n",
       "      <td>0</td>\n",
       "      <td>0</td>\n",
       "      <td>1</td>\n",
       "      <td>0</td>\n",
       "      <td>0</td>\n",
       "      <td>0</td>\n",
       "      <td>1</td>\n",
       "    </tr>\n",
       "    <tr>\n",
       "      <th>3</th>\n",
       "      <td>572</td>\n",
       "      <td>1</td>\n",
       "      <td>0</td>\n",
       "      <td>0</td>\n",
       "      <td>0</td>\n",
       "      <td>1</td>\n",
       "      <td>0</td>\n",
       "      <td>1</td>\n",
       "      <td>0</td>\n",
       "    </tr>\n",
       "    <tr>\n",
       "      <th>4</th>\n",
       "      <td>911</td>\n",
       "      <td>1</td>\n",
       "      <td>0</td>\n",
       "      <td>0</td>\n",
       "      <td>0</td>\n",
       "      <td>1</td>\n",
       "      <td>1</td>\n",
       "      <td>0</td>\n",
       "      <td>0</td>\n",
       "    </tr>\n",
       "  </tbody>\n",
       "</table>\n",
       "</div>"
      ],
      "text/plain": [
       "   num_sold  country_Finland  country_Norway  country_Sweden  \\\n",
       "0       329                1               0               0   \n",
       "1       520                1               0               0   \n",
       "2       146                1               0               0   \n",
       "3       572                1               0               0   \n",
       "4       911                1               0               0   \n",
       "\n",
       "   store_KaggleMart  store_KaggleRama  product_Kaggle Hat  product_Kaggle Mug  \\\n",
       "0                 1                 0                   0                   1   \n",
       "1                 1                 0                   1                   0   \n",
       "2                 1                 0                   0                   0   \n",
       "3                 0                 1                   0                   1   \n",
       "4                 0                 1                   1                   0   \n",
       "\n",
       "   product_Kaggle Sticker  \n",
       "0                       0  \n",
       "1                       0  \n",
       "2                       1  \n",
       "3                       0  \n",
       "4                       0  "
      ]
     },
     "execution_count": 20,
     "metadata": {},
     "output_type": "execute_result"
    }
   ],
   "source": [
    "df.head()"
   ]
  },
  {
   "cell_type": "markdown",
   "id": "60166240",
   "metadata": {},
   "source": [
    "# Data Splitting"
   ]
  },
  {
   "cell_type": "code",
   "execution_count": 21,
   "id": "3204a41f",
   "metadata": {},
   "outputs": [],
   "source": [
    "X = df.drop(axis=1, columns=['num_sold'])\n",
    "y = df.num_sold"
   ]
  },
  {
   "cell_type": "code",
   "execution_count": 22,
   "id": "80bcd4cd",
   "metadata": {},
   "outputs": [],
   "source": [
    "from sklearn.model_selection import cross_val_score, train_test_split, KFold, GridSearchCV, RandomizedSearchCV\n",
    "\n",
    "from sklearn.linear_model import LinearRegression\n",
    "from sklearn.ensemble import RandomForestRegressor\n",
    "from sklearn.tree import DecisionTreeRegressor\n",
    "from sklearn.svm import SVR\n",
    "from xgboost import XGBRegressor\n",
    "\n",
    "from sklearn.metrics import r2_score, accuracy_score, classification_report, confusion_matrix"
   ]
  },
  {
   "cell_type": "code",
   "execution_count": 23,
   "id": "10abb301",
   "metadata": {},
   "outputs": [],
   "source": [
    "kfold = KFold(n_splits=10, shuffle=True)"
   ]
  },
  {
   "cell_type": "code",
   "execution_count": 24,
   "id": "53a1c8f0",
   "metadata": {},
   "outputs": [],
   "source": [
    "x_train, x_test, y_train, y_test = train_test_split(X, y, test_size=0.2, random_state=20)"
   ]
  },
  {
   "cell_type": "code",
   "execution_count": 25,
   "id": "4eb75bce",
   "metadata": {},
   "outputs": [],
   "source": [
    "lr = LinearRegression()\n",
    "rfr = RandomForestRegressor()\n",
    "dtr = DecisionTreeRegressor()\n",
    "svr = SVR()\n",
    "xgr = XGBRegressor()"
   ]
  },
  {
   "cell_type": "code",
   "execution_count": 26,
   "id": "65f34841",
   "metadata": {
    "scrolled": true
   },
   "outputs": [
    {
     "name": "stderr",
     "output_type": "stream",
     "text": [
      "[Parallel(n_jobs=-1)]: Using backend LokyBackend with 8 concurrent workers.\n",
      "[Parallel(n_jobs=-1)]: Done   3 out of  10 | elapsed:    1.3s remaining:    3.1s\n",
      "[Parallel(n_jobs=-1)]: Done   7 out of  10 | elapsed:    1.4s remaining:    0.6s\n",
      "[Parallel(n_jobs=-1)]: Done  10 out of  10 | elapsed:    1.4s finished\n",
      "[Parallel(n_jobs=-1)]: Using backend LokyBackend with 8 concurrent workers.\n",
      "[Parallel(n_jobs=-1)]: Done   3 out of  10 | elapsed:    0.0s remaining:    0.1s\n",
      "[Parallel(n_jobs=-1)]: Done   7 out of  10 | elapsed:    0.1s remaining:    0.0s\n",
      "[Parallel(n_jobs=-1)]: Done  10 out of  10 | elapsed:    0.1s finished\n",
      "[Parallel(n_jobs=-1)]: Using backend LokyBackend with 8 concurrent workers.\n",
      "[Parallel(n_jobs=-1)]: Done   3 out of  10 | elapsed:    0.0s remaining:    0.1s\n",
      "[Parallel(n_jobs=-1)]: Done   7 out of  10 | elapsed:    0.0s remaining:    0.0s\n",
      "[Parallel(n_jobs=-1)]: Done  10 out of  10 | elapsed:    0.1s finished\n",
      "[Parallel(n_jobs=-1)]: Using backend LokyBackend with 8 concurrent workers.\n",
      "[Parallel(n_jobs=-1)]: Done   3 out of  10 | elapsed:    0.0s remaining:    0.1s\n",
      "[Parallel(n_jobs=-1)]: Done   7 out of  10 | elapsed:    0.0s remaining:    0.0s\n",
      "[Parallel(n_jobs=-1)]: Done  10 out of  10 | elapsed:    0.1s finished\n",
      "[Parallel(n_jobs=-1)]: Using backend LokyBackend with 8 concurrent workers.\n",
      "[Parallel(n_jobs=-1)]: Done   3 out of  10 | elapsed:    0.0s remaining:    0.1s\n",
      "[Parallel(n_jobs=-1)]: Done   7 out of  10 | elapsed:    0.0s remaining:    0.0s\n",
      "[Parallel(n_jobs=-1)]: Done  10 out of  10 | elapsed:    0.1s finished\n"
     ]
    },
    {
     "data": {
      "text/plain": [
       "[0.7350372150650544,\n",
       " 0.7352851084049197,\n",
       " 0.7351229493686214,\n",
       " 0.7352370903394111,\n",
       " 0.7357965776512208]"
      ]
     },
     "execution_count": 26,
     "metadata": {},
     "output_type": "execute_result"
    }
   ],
   "source": [
    "score = []\n",
    "models = ['lr', 'rfr', 'dtr', 'svr', 'xgr']\n",
    "for model in models:\n",
    "    s = cross_val_score(estimator=lr, X=x_train, y=y_train, cv=kfold, n_jobs=-1, verbose=3)\n",
    "    score.append(np.mean(s))\n",
    "score"
   ]
  },
  {
   "cell_type": "markdown",
   "id": "c37cade6",
   "metadata": {},
   "source": [
    "I am going to perform hyperparamter tuning on RFR and XGBR"
   ]
  },
  {
   "cell_type": "markdown",
   "id": "cec8c8d5",
   "metadata": {},
   "source": [
    "### RFR"
   ]
  },
  {
   "cell_type": "code",
   "execution_count": 27,
   "id": "65bdf64c",
   "metadata": {},
   "outputs": [],
   "source": [
    "rfr= RandomForestRegressor(n_estimators=300, criterion='squared_error', random_state=20)"
   ]
  },
  {
   "cell_type": "code",
   "execution_count": 28,
   "id": "3adab729",
   "metadata": {},
   "outputs": [
    {
     "data": {
      "text/plain": [
       "RandomForestRegressor(n_estimators=300, random_state=20)"
      ]
     },
     "execution_count": 28,
     "metadata": {},
     "output_type": "execute_result"
    }
   ],
   "source": [
    "rfr.fit(x_train, y_train)"
   ]
  },
  {
   "cell_type": "code",
   "execution_count": 29,
   "id": "474f2b6c",
   "metadata": {},
   "outputs": [],
   "source": [
    "y_pred = rfr.predict(x_test)"
   ]
  },
  {
   "cell_type": "code",
   "execution_count": 30,
   "id": "9d439934",
   "metadata": {},
   "outputs": [
    {
     "data": {
      "text/plain": [
       "array([ 178.90338125,  587.38674807,  592.0162259 , ...,  414.522825  ,\n",
       "        587.38674807, 1042.713498  ])"
      ]
     },
     "execution_count": 30,
     "metadata": {},
     "output_type": "execute_result"
    }
   ],
   "source": [
    "y_pred"
   ]
  },
  {
   "cell_type": "code",
   "execution_count": 31,
   "id": "d9a35d8d",
   "metadata": {},
   "outputs": [
    {
     "data": {
      "text/plain": [
       "0.8070425192754739"
      ]
     },
     "execution_count": 31,
     "metadata": {},
     "output_type": "execute_result"
    }
   ],
   "source": [
    "r2_score(y_test, y_pred)"
   ]
  },
  {
   "cell_type": "markdown",
   "id": "ee6ff2e9",
   "metadata": {},
   "source": [
    "### XGR"
   ]
  },
  {
   "cell_type": "code",
   "execution_count": 32,
   "id": "2489aa7a",
   "metadata": {},
   "outputs": [],
   "source": [
    "xgr = XGBRegressor()"
   ]
  },
  {
   "cell_type": "code",
   "execution_count": 33,
   "id": "6f21dae8",
   "metadata": {},
   "outputs": [],
   "source": [
    "learning_rate = [0.05,0.1,0.2,0.3,0.35,0.4,0.45,0.5,0.55]\n",
    "gamma = [0.1,0.2,0.3,0.4,0.5,0.6]"
   ]
  },
  {
   "cell_type": "code",
   "execution_count": 34,
   "id": "9e2fdb63",
   "metadata": {},
   "outputs": [],
   "source": [
    "random = RandomizedSearchCV(estimator=xgr, param_distributions={'learning_rate':learning_rate,\n",
    "                                                                'gamma':gamma},\n",
    "                            n_iter=10, cv=3, verbose=1, n_jobs=-1)"
   ]
  },
  {
   "cell_type": "code",
   "execution_count": 35,
   "id": "4f1412d9",
   "metadata": {
    "scrolled": true
   },
   "outputs": [
    {
     "name": "stdout",
     "output_type": "stream",
     "text": [
      "Fitting 3 folds for each of 10 candidates, totalling 30 fits\n"
     ]
    },
    {
     "data": {
      "text/plain": [
       "RandomizedSearchCV(cv=3,\n",
       "                   estimator=XGBRegressor(base_score=None, booster=None,\n",
       "                                          colsample_bylevel=None,\n",
       "                                          colsample_bynode=None,\n",
       "                                          colsample_bytree=None,\n",
       "                                          enable_categorical=False, gamma=None,\n",
       "                                          gpu_id=None, importance_type=None,\n",
       "                                          interaction_constraints=None,\n",
       "                                          learning_rate=None,\n",
       "                                          max_delta_step=None, max_depth=None,\n",
       "                                          min_child_weight=None, missing=nan,\n",
       "                                          monotone_constraints=None,\n",
       "                                          n_estimators=100, n_jobs=None,\n",
       "                                          num_parallel_tree=None,\n",
       "                                          predictor=None, random_state=None,\n",
       "                                          reg_alpha=None, reg_lambda=None,\n",
       "                                          scale_pos_weight=None, subsample=None,\n",
       "                                          tree_method=None,\n",
       "                                          validate_parameters=None,\n",
       "                                          verbosity=None),\n",
       "                   n_jobs=-1,\n",
       "                   param_distributions={'gamma': [0.1, 0.2, 0.3, 0.4, 0.5, 0.6],\n",
       "                                        'learning_rate': [0.05, 0.1, 0.2, 0.3,\n",
       "                                                          0.35, 0.4, 0.45, 0.5,\n",
       "                                                          0.55]},\n",
       "                   verbose=1)"
      ]
     },
     "execution_count": 35,
     "metadata": {},
     "output_type": "execute_result"
    }
   ],
   "source": [
    "random.fit(x_train, y_train)"
   ]
  },
  {
   "cell_type": "code",
   "execution_count": 36,
   "id": "b3e567a5",
   "metadata": {
    "scrolled": false
   },
   "outputs": [
    {
     "data": {
      "text/plain": [
       "XGBRegressor(base_score=0.5, booster='gbtree', colsample_bylevel=1,\n",
       "             colsample_bynode=1, colsample_bytree=1, enable_categorical=False,\n",
       "             gamma=0.4, gpu_id=-1, importance_type=None,\n",
       "             interaction_constraints='', learning_rate=0.5, max_delta_step=0,\n",
       "             max_depth=6, min_child_weight=1, missing=nan,\n",
       "             monotone_constraints='()', n_estimators=100, n_jobs=8,\n",
       "             num_parallel_tree=1, predictor='auto', random_state=0, reg_alpha=0,\n",
       "             reg_lambda=1, scale_pos_weight=1, subsample=1, tree_method='exact',\n",
       "             validate_parameters=1, verbosity=None)"
      ]
     },
     "execution_count": 36,
     "metadata": {},
     "output_type": "execute_result"
    }
   ],
   "source": [
    "random.best_estimator_"
   ]
  },
  {
   "cell_type": "code",
   "execution_count": 37,
   "id": "6709697c",
   "metadata": {},
   "outputs": [
    {
     "data": {
      "text/plain": [
       "0.8038868112924159"
      ]
     },
     "execution_count": 37,
     "metadata": {},
     "output_type": "execute_result"
    }
   ],
   "source": [
    "random.best_score_"
   ]
  },
  {
   "cell_type": "code",
   "execution_count": 38,
   "id": "792a1901",
   "metadata": {},
   "outputs": [],
   "source": [
    "xgr = XGBRegressor(base_score=0.5, booster='gbtree', colsample_bylevel=1,\n",
    "             colsample_bynode=1, colsample_bytree=1, enable_categorical=False,\n",
    "             gamma=0.4, gpu_id=-1, importance_type=None,\n",
    "             interaction_constraints='', learning_rate=0.65, max_delta_step=0,\n",
    "             max_depth=6, min_child_weight=1, missing=np.nan,\n",
    "             monotone_constraints='()', n_estimators=100, n_jobs=8,\n",
    "             num_parallel_tree=1, predictor='auto', random_state=0, reg_alpha=0,\n",
    "             reg_lambda=1, scale_pos_weight=1, subsample=1, tree_method='exact',\n",
    "             validate_parameters=1, verbosity=None)"
   ]
  },
  {
   "cell_type": "code",
   "execution_count": 40,
   "id": "782c6fd0",
   "metadata": {},
   "outputs": [
    {
     "data": {
      "text/plain": [
       "XGBRegressor(base_score=0.5, booster='gbtree', colsample_bylevel=1,\n",
       "             colsample_bynode=1, colsample_bytree=1, enable_categorical=False,\n",
       "             gamma=0.4, gpu_id=-1, importance_type=None,\n",
       "             interaction_constraints='', learning_rate=0.65, max_delta_step=0,\n",
       "             max_depth=6, min_child_weight=1, missing=nan,\n",
       "             monotone_constraints='()', n_estimators=100, n_jobs=8,\n",
       "             num_parallel_tree=1, predictor='auto', random_state=0, reg_alpha=0,\n",
       "             reg_lambda=1, scale_pos_weight=1, subsample=1, tree_method='exact',\n",
       "             validate_parameters=1, verbosity=None)"
      ]
     },
     "execution_count": 40,
     "metadata": {},
     "output_type": "execute_result"
    }
   ],
   "source": [
    "xgr.fit(x_train, y_train)"
   ]
  },
  {
   "cell_type": "code",
   "execution_count": 41,
   "id": "f64d3dda",
   "metadata": {},
   "outputs": [],
   "source": [
    "y_pred_xgr = xgr.predict(x_test)"
   ]
  },
  {
   "cell_type": "code",
   "execution_count": 42,
   "id": "45dd0672",
   "metadata": {},
   "outputs": [
    {
     "data": {
      "text/plain": [
       "array([ 178.88812,  587.0622 ,  591.93427, ...,  414.5439 ,  587.0622 ,\n",
       "       1042.4773 ], dtype=float32)"
      ]
     },
     "execution_count": 42,
     "metadata": {},
     "output_type": "execute_result"
    }
   ],
   "source": [
    "y_pred_xgr"
   ]
  },
  {
   "cell_type": "code",
   "execution_count": 43,
   "id": "e3097f06",
   "metadata": {},
   "outputs": [
    {
     "data": {
      "text/plain": [
       "0.8070628285705411"
      ]
     },
     "execution_count": 43,
     "metadata": {},
     "output_type": "execute_result"
    }
   ],
   "source": [
    "r2_score(y_test, y_pred_xgr)"
   ]
  },
  {
   "cell_type": "markdown",
   "id": "ea28bbc5",
   "metadata": {},
   "source": [
    "## I AM GOING TO USE XGBR FOR MY TEST DATA (For Kaggle)"
   ]
  },
  {
   "cell_type": "code",
   "execution_count": 44,
   "id": "8bd1f4a7",
   "metadata": {},
   "outputs": [],
   "source": [
    "df_test = pd.read_csv('test.csv', usecols=['country', 'store', 'product', 'row_id'])"
   ]
  },
  {
   "cell_type": "code",
   "execution_count": 45,
   "id": "61da65fb",
   "metadata": {},
   "outputs": [
    {
     "data": {
      "text/html": [
       "<div>\n",
       "<style scoped>\n",
       "    .dataframe tbody tr th:only-of-type {\n",
       "        vertical-align: middle;\n",
       "    }\n",
       "\n",
       "    .dataframe tbody tr th {\n",
       "        vertical-align: top;\n",
       "    }\n",
       "\n",
       "    .dataframe thead th {\n",
       "        text-align: right;\n",
       "    }\n",
       "</style>\n",
       "<table border=\"1\" class=\"dataframe\">\n",
       "  <thead>\n",
       "    <tr style=\"text-align: right;\">\n",
       "      <th></th>\n",
       "      <th>row_id</th>\n",
       "      <th>country</th>\n",
       "      <th>store</th>\n",
       "      <th>product</th>\n",
       "    </tr>\n",
       "  </thead>\n",
       "  <tbody>\n",
       "    <tr>\n",
       "      <th>0</th>\n",
       "      <td>26298</td>\n",
       "      <td>Finland</td>\n",
       "      <td>KaggleMart</td>\n",
       "      <td>Kaggle Mug</td>\n",
       "    </tr>\n",
       "    <tr>\n",
       "      <th>1</th>\n",
       "      <td>26299</td>\n",
       "      <td>Finland</td>\n",
       "      <td>KaggleMart</td>\n",
       "      <td>Kaggle Hat</td>\n",
       "    </tr>\n",
       "    <tr>\n",
       "      <th>2</th>\n",
       "      <td>26300</td>\n",
       "      <td>Finland</td>\n",
       "      <td>KaggleMart</td>\n",
       "      <td>Kaggle Sticker</td>\n",
       "    </tr>\n",
       "    <tr>\n",
       "      <th>3</th>\n",
       "      <td>26301</td>\n",
       "      <td>Finland</td>\n",
       "      <td>KaggleRama</td>\n",
       "      <td>Kaggle Mug</td>\n",
       "    </tr>\n",
       "    <tr>\n",
       "      <th>4</th>\n",
       "      <td>26302</td>\n",
       "      <td>Finland</td>\n",
       "      <td>KaggleRama</td>\n",
       "      <td>Kaggle Hat</td>\n",
       "    </tr>\n",
       "  </tbody>\n",
       "</table>\n",
       "</div>"
      ],
      "text/plain": [
       "   row_id  country       store         product\n",
       "0   26298  Finland  KaggleMart      Kaggle Mug\n",
       "1   26299  Finland  KaggleMart      Kaggle Hat\n",
       "2   26300  Finland  KaggleMart  Kaggle Sticker\n",
       "3   26301  Finland  KaggleRama      Kaggle Mug\n",
       "4   26302  Finland  KaggleRama      Kaggle Hat"
      ]
     },
     "execution_count": 45,
     "metadata": {},
     "output_type": "execute_result"
    }
   ],
   "source": [
    "df_test.head()"
   ]
  },
  {
   "cell_type": "code",
   "execution_count": 46,
   "id": "b9725715",
   "metadata": {},
   "outputs": [
    {
     "data": {
      "text/plain": [
       "False"
      ]
     },
     "execution_count": 46,
     "metadata": {},
     "output_type": "execute_result"
    }
   ],
   "source": [
    "df_test.isnull().values.any()"
   ]
  },
  {
   "cell_type": "code",
   "execution_count": 47,
   "id": "b62aabd5",
   "metadata": {},
   "outputs": [],
   "source": [
    "X = df_test.drop(axis=1, columns=['row_id'])"
   ]
  },
  {
   "cell_type": "code",
   "execution_count": 48,
   "id": "7d978ffe",
   "metadata": {},
   "outputs": [],
   "source": [
    "X = pd.get_dummies(data=X)"
   ]
  },
  {
   "cell_type": "code",
   "execution_count": 49,
   "id": "0f8532ed",
   "metadata": {},
   "outputs": [
    {
     "data": {
      "text/html": [
       "<div>\n",
       "<style scoped>\n",
       "    .dataframe tbody tr th:only-of-type {\n",
       "        vertical-align: middle;\n",
       "    }\n",
       "\n",
       "    .dataframe tbody tr th {\n",
       "        vertical-align: top;\n",
       "    }\n",
       "\n",
       "    .dataframe thead th {\n",
       "        text-align: right;\n",
       "    }\n",
       "</style>\n",
       "<table border=\"1\" class=\"dataframe\">\n",
       "  <thead>\n",
       "    <tr style=\"text-align: right;\">\n",
       "      <th></th>\n",
       "      <th>country_Finland</th>\n",
       "      <th>country_Norway</th>\n",
       "      <th>country_Sweden</th>\n",
       "      <th>store_KaggleMart</th>\n",
       "      <th>store_KaggleRama</th>\n",
       "      <th>product_Kaggle Hat</th>\n",
       "      <th>product_Kaggle Mug</th>\n",
       "      <th>product_Kaggle Sticker</th>\n",
       "    </tr>\n",
       "  </thead>\n",
       "  <tbody>\n",
       "    <tr>\n",
       "      <th>0</th>\n",
       "      <td>1</td>\n",
       "      <td>0</td>\n",
       "      <td>0</td>\n",
       "      <td>1</td>\n",
       "      <td>0</td>\n",
       "      <td>0</td>\n",
       "      <td>1</td>\n",
       "      <td>0</td>\n",
       "    </tr>\n",
       "    <tr>\n",
       "      <th>1</th>\n",
       "      <td>1</td>\n",
       "      <td>0</td>\n",
       "      <td>0</td>\n",
       "      <td>1</td>\n",
       "      <td>0</td>\n",
       "      <td>1</td>\n",
       "      <td>0</td>\n",
       "      <td>0</td>\n",
       "    </tr>\n",
       "    <tr>\n",
       "      <th>2</th>\n",
       "      <td>1</td>\n",
       "      <td>0</td>\n",
       "      <td>0</td>\n",
       "      <td>1</td>\n",
       "      <td>0</td>\n",
       "      <td>0</td>\n",
       "      <td>0</td>\n",
       "      <td>1</td>\n",
       "    </tr>\n",
       "    <tr>\n",
       "      <th>3</th>\n",
       "      <td>1</td>\n",
       "      <td>0</td>\n",
       "      <td>0</td>\n",
       "      <td>0</td>\n",
       "      <td>1</td>\n",
       "      <td>0</td>\n",
       "      <td>1</td>\n",
       "      <td>0</td>\n",
       "    </tr>\n",
       "    <tr>\n",
       "      <th>4</th>\n",
       "      <td>1</td>\n",
       "      <td>0</td>\n",
       "      <td>0</td>\n",
       "      <td>0</td>\n",
       "      <td>1</td>\n",
       "      <td>1</td>\n",
       "      <td>0</td>\n",
       "      <td>0</td>\n",
       "    </tr>\n",
       "  </tbody>\n",
       "</table>\n",
       "</div>"
      ],
      "text/plain": [
       "   country_Finland  country_Norway  country_Sweden  store_KaggleMart  \\\n",
       "0                1               0               0                 1   \n",
       "1                1               0               0                 1   \n",
       "2                1               0               0                 1   \n",
       "3                1               0               0                 0   \n",
       "4                1               0               0                 0   \n",
       "\n",
       "   store_KaggleRama  product_Kaggle Hat  product_Kaggle Mug  \\\n",
       "0                 0                   0                   1   \n",
       "1                 0                   1                   0   \n",
       "2                 0                   0                   0   \n",
       "3                 1                   0                   1   \n",
       "4                 1                   1                   0   \n",
       "\n",
       "   product_Kaggle Sticker  \n",
       "0                       0  \n",
       "1                       0  \n",
       "2                       1  \n",
       "3                       0  \n",
       "4                       0  "
      ]
     },
     "execution_count": 49,
     "metadata": {},
     "output_type": "execute_result"
    }
   ],
   "source": [
    "X.head()"
   ]
  },
  {
   "cell_type": "code",
   "execution_count": 51,
   "id": "71890432",
   "metadata": {},
   "outputs": [
    {
     "data": {
      "text/plain": [
       "array([204.34923, 361.75735, 103.32744, ..., 414.5439 , 729.8233 ,\n",
       "       208.02173], dtype=float32)"
      ]
     },
     "execution_count": 51,
     "metadata": {},
     "output_type": "execute_result"
    }
   ],
   "source": [
    "prediction = xgr.predict(X)\n",
    "prediction"
   ]
  },
  {
   "cell_type": "code",
   "execution_count": 52,
   "id": "c9a28750",
   "metadata": {},
   "outputs": [
    {
     "data": {
      "text/plain": [
       "0       205.0\n",
       "1       362.0\n",
       "2       104.0\n",
       "3       357.0\n",
       "4       630.0\n",
       "        ...  \n",
       "6565    418.0\n",
       "6566    120.0\n",
       "6567    415.0\n",
       "6568    730.0\n",
       "6569    209.0\n",
       "Length: 6570, dtype: float32"
      ]
     },
     "execution_count": 52,
     "metadata": {},
     "output_type": "execute_result"
    }
   ],
   "source": [
    "prediction = pd.Series(np.ceil(prediction))\n",
    "prediction"
   ]
  },
  {
   "cell_type": "code",
   "execution_count": 53,
   "id": "42c6bdcf",
   "metadata": {},
   "outputs": [],
   "source": [
    "submit = pd.concat([df_test.row_id, prediction], axis=1)"
   ]
  },
  {
   "cell_type": "code",
   "execution_count": 54,
   "id": "a20f88f1",
   "metadata": {},
   "outputs": [],
   "source": [
    "submit.columns = ['row_id', 'num_sold']"
   ]
  },
  {
   "cell_type": "code",
   "execution_count": 55,
   "id": "49d5d0dc",
   "metadata": {},
   "outputs": [
    {
     "data": {
      "text/html": [
       "<div>\n",
       "<style scoped>\n",
       "    .dataframe tbody tr th:only-of-type {\n",
       "        vertical-align: middle;\n",
       "    }\n",
       "\n",
       "    .dataframe tbody tr th {\n",
       "        vertical-align: top;\n",
       "    }\n",
       "\n",
       "    .dataframe thead th {\n",
       "        text-align: right;\n",
       "    }\n",
       "</style>\n",
       "<table border=\"1\" class=\"dataframe\">\n",
       "  <thead>\n",
       "    <tr style=\"text-align: right;\">\n",
       "      <th></th>\n",
       "      <th>row_id</th>\n",
       "      <th>num_sold</th>\n",
       "    </tr>\n",
       "  </thead>\n",
       "  <tbody>\n",
       "    <tr>\n",
       "      <th>0</th>\n",
       "      <td>26298</td>\n",
       "      <td>205.0</td>\n",
       "    </tr>\n",
       "    <tr>\n",
       "      <th>1</th>\n",
       "      <td>26299</td>\n",
       "      <td>362.0</td>\n",
       "    </tr>\n",
       "    <tr>\n",
       "      <th>2</th>\n",
       "      <td>26300</td>\n",
       "      <td>104.0</td>\n",
       "    </tr>\n",
       "    <tr>\n",
       "      <th>3</th>\n",
       "      <td>26301</td>\n",
       "      <td>357.0</td>\n",
       "    </tr>\n",
       "    <tr>\n",
       "      <th>4</th>\n",
       "      <td>26302</td>\n",
       "      <td>630.0</td>\n",
       "    </tr>\n",
       "    <tr>\n",
       "      <th>...</th>\n",
       "      <td>...</td>\n",
       "      <td>...</td>\n",
       "    </tr>\n",
       "    <tr>\n",
       "      <th>6565</th>\n",
       "      <td>32863</td>\n",
       "      <td>418.0</td>\n",
       "    </tr>\n",
       "    <tr>\n",
       "      <th>6566</th>\n",
       "      <td>32864</td>\n",
       "      <td>120.0</td>\n",
       "    </tr>\n",
       "    <tr>\n",
       "      <th>6567</th>\n",
       "      <td>32865</td>\n",
       "      <td>415.0</td>\n",
       "    </tr>\n",
       "    <tr>\n",
       "      <th>6568</th>\n",
       "      <td>32866</td>\n",
       "      <td>730.0</td>\n",
       "    </tr>\n",
       "    <tr>\n",
       "      <th>6569</th>\n",
       "      <td>32867</td>\n",
       "      <td>209.0</td>\n",
       "    </tr>\n",
       "  </tbody>\n",
       "</table>\n",
       "<p>6570 rows × 2 columns</p>\n",
       "</div>"
      ],
      "text/plain": [
       "      row_id  num_sold\n",
       "0      26298     205.0\n",
       "1      26299     362.0\n",
       "2      26300     104.0\n",
       "3      26301     357.0\n",
       "4      26302     630.0\n",
       "...      ...       ...\n",
       "6565   32863     418.0\n",
       "6566   32864     120.0\n",
       "6567   32865     415.0\n",
       "6568   32866     730.0\n",
       "6569   32867     209.0\n",
       "\n",
       "[6570 rows x 2 columns]"
      ]
     },
     "execution_count": 55,
     "metadata": {},
     "output_type": "execute_result"
    }
   ],
   "source": [
    "submit"
   ]
  },
  {
   "cell_type": "code",
   "execution_count": 56,
   "id": "4b1f65c8",
   "metadata": {},
   "outputs": [],
   "source": [
    "submit.to_csv('submit_1.csv', index=False)"
   ]
  },
  {
   "cell_type": "code",
   "execution_count": 57,
   "id": "69c35aec",
   "metadata": {},
   "outputs": [
    {
     "data": {
      "text/plain": [
       "388.16666"
      ]
     },
     "execution_count": 57,
     "metadata": {},
     "output_type": "execute_result"
    }
   ],
   "source": [
    "submit.num_sold.mean()"
   ]
  },
  {
   "cell_type": "code",
   "execution_count": 58,
   "id": "3d78b2e8",
   "metadata": {},
   "outputs": [
    {
     "data": {
      "text/plain": [
       "239.61494"
      ]
     },
     "execution_count": 58,
     "metadata": {},
     "output_type": "execute_result"
    },
    {
     "name": "stdout",
     "output_type": "stream",
     "text": [
      "[CV] END ................................ score: (test=0.726) total time=   0.0s\n",
      "[CV] END ................................ score: (test=0.754) total time=   0.0s\n",
      "[CV] END ................................ score: (test=0.739) total time=   0.0s\n",
      "[CV] END ................................ score: (test=0.743) total time=   0.0s\n",
      "[CV] END ................................ score: (test=0.738) total time=   0.0s\n",
      "[CV] END ................................ score: (test=0.734) total time=   0.0s\n",
      "[CV] END ................................ score: (test=0.732) total time=   0.0s\n",
      "[CV] END ................................ score: (test=0.735) total time=   0.0s\n",
      "[CV] END ................................ score: (test=0.750) total time=   0.0s\n",
      "[CV] END ................................ score: (test=0.750) total time=   0.0s\n",
      "[CV] END ................................ score: (test=0.731) total time=   0.0s\n",
      "[CV] END ................................ score: (test=0.745) total time=   0.0s\n",
      "[CV] END ................................ score: (test=0.739) total time=   0.0s\n",
      "[CV] END ................................ score: (test=0.749) total time=   0.0s\n",
      "[CV] END ................................ score: (test=0.737) total time=   0.0s\n",
      "[CV] END ................................ score: (test=0.738) total time=   0.0s\n",
      "[CV] END ................................ score: (test=0.713) total time=   0.0s\n",
      "[CV] END ................................ score: (test=0.713) total time=   0.0s\n",
      "[CV] END ................................ score: (test=0.711) total time=   0.0s\n",
      "[CV] END ................................ score: (test=0.705) total time=   0.0s\n",
      "[CV] END ................................ score: (test=0.734) total time=   0.0s\n",
      "[CV] END ................................ score: (test=0.754) total time=   0.0s\n",
      "[CV] END ................................ score: (test=0.716) total time=   0.0s\n",
      "[CV] END ................................ score: (test=0.721) total time=   0.0s\n",
      "[CV] END ................................ score: (test=0.734) total time=   0.0s\n",
      "[CV] END ................................ score: (test=0.743) total time=   0.0s\n",
      "[CV] END ................................ score: (test=0.738) total time=   0.0s\n",
      "[CV] END ................................ score: (test=0.732) total time=   0.0s\n",
      "[CV] END ................................ score: (test=0.708) total time=   0.0s\n",
      "[CV] END ................................ score: (test=0.757) total time=   0.0s\n",
      "[CV] END ................................ score: (test=0.735) total time=   0.0s\n",
      "[CV] END ................................ score: (test=0.731) total time=   0.0s\n",
      "[CV] END ................................ score: (test=0.748) total time=   0.0s\n",
      "[CV] END ................................ score: (test=0.766) total time=   0.0s\n",
      "[CV] END ................................ score: (test=0.719) total time=   0.0s\n",
      "[CV] END ................................ score: (test=0.749) total time=   0.0s\n",
      "[CV] END ................................ score: (test=0.722) total time=   0.0s\n",
      "[CV] END ................................ score: (test=0.747) total time=   0.0s\n",
      "[CV] END ................................ score: (test=0.721) total time=   0.0s\n",
      "[CV] END ................................ score: (test=0.750) total time=   0.0s\n",
      "[CV] END ................................ score: (test=0.744) total time=   0.0s\n",
      "[CV] END ................................ score: (test=0.722) total time=   0.0s\n",
      "[CV] END ................................ score: (test=0.740) total time=   0.0s\n",
      "[CV] END ................................ score: (test=0.735) total time=   0.0s\n",
      "[CV] END ................................ score: (test=0.761) total time=   0.0s\n",
      "[CV] END ................................ score: (test=0.736) total time=   0.0s\n",
      "[CV] END ................................ score: (test=0.719) total time=   0.0s\n",
      "[CV] END ................................ score: (test=0.741) total time=   0.0s\n",
      "[CV] END ................................ score: (test=0.714) total time=   0.0s\n",
      "[CV] END ................................ score: (test=0.744) total time=   0.0s\n"
     ]
    }
   ],
   "source": [
    "submit.num_sold.std()"
   ]
  }
 ],
 "metadata": {
  "kernelspec": {
   "display_name": "Python 3 (ipykernel)",
   "language": "python",
   "name": "python3"
  },
  "language_info": {
   "codemirror_mode": {
    "name": "ipython",
    "version": 3
   },
   "file_extension": ".py",
   "mimetype": "text/x-python",
   "name": "python",
   "nbconvert_exporter": "python",
   "pygments_lexer": "ipython3",
   "version": "3.7.11"
  }
 },
 "nbformat": 4,
 "nbformat_minor": 5
}
